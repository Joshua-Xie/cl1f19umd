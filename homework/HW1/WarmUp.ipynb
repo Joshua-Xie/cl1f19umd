{
 "cells": [
  {
   "cell_type": "code",
   "execution_count": null,
   "metadata": {
    "collapsed": true
   },
   "outputs": [],
   "source": [
    "import sys\n",
    "import numpy as np\n",
    "import torch\n",
    "from scipy import linalg\n",
    "import matplotlib.pyplot as plt\n",
    "from sklearn import datasets\n",
    "import nose.tools\n",
    "from IPython.display import Image, display"
   ]
  },
  {
   "cell_type": "markdown",
   "metadata": {},
   "source": [
    "### We highly recommend you to install packages through Anaconda.\n",
    "- Installation of Anaconda: follow instructions from https://docs.anaconda.com/anaconda/install/\n",
    "\n",
    "\n",
    "- Installation of Pytorch: follow instructions from https://pytorch.org/get-started/locally/.   (For instance, if you install using anaconda on a Mac with Python 3.6, run command line: **conda install pytorch torchvision -c pytorch**)\n"
   ]
  },
  {
   "cell_type": "markdown",
   "metadata": {},
   "source": [
    "## Test numpy and pytorch with a simple ReLU network"
   ]
  },
  {
   "cell_type": "code",
   "execution_count": null,
   "metadata": {},
   "outputs": [],
   "source": [
    "iter_range = 1500\n",
    "print_range = 800\n",
    "\n",
    "# Create input and output data\n",
    "a = np.array([1.76405235,0.40015721,0.97873798,2.2408932,1.86755799]).reshape(5,1)\n",
    "b = np.array([-0.97727788,0.95008842,-0.15135721,-0.10321885,0.4105985]).reshape(5,1)\n",
    "c = np.array([0.14404357,1.45427351,0.76103773,0.12167502,0.44386323]).reshape(5,1)\n",
    "x = a*b.T\n",
    "y = a*c.T\n",
    "x = torch.from_numpy(x)\n",
    "y = torch.from_numpy(y)\n",
    "\n",
    "# Initialize weights\n",
    "w1 = np.ones((5,5))\n",
    "w2 = np.ones((5,5))\n",
    "w1 = torch.from_numpy(w1)\n",
    "w2 = torch.from_numpy(w2)\n",
    "\n",
    "losses = np.zeros(iter_range)\n",
    "learning_rate = 0.0014\n",
    "for t in range(iter_range):\n",
    "    # Forward pass: compute predicted y\n",
    "    h = x.mm(w1)\n",
    "    h_relu = h.clamp(min=0)\n",
    "    y_pred = h_relu.mm(w2)\n",
    "\n",
    "    # Compute and print loss\n",
    "    loss = (y_pred - y).pow(2).sum()\n",
    "    losses[t] = loss\n",
    "\n",
    "    # Backprop to compute gradients of w1 and w2 with respect to loss\n",
    "    grad_y_pred = 2.0 * (y_pred - y)\n",
    "    grad_w2 = h_relu.t().mm(grad_y_pred)\n",
    "    grad_h_relu = grad_y_pred.mm(w2.t())\n",
    "    grad_h = grad_h_relu.clone()\n",
    "    grad_h[h < 0] = 0\n",
    "    grad_w1 = x.t().mm(grad_h)\n",
    "\n",
    "    # Update weights using gradient descent\n",
    "    w1 -= learning_rate * grad_w1\n",
    "    w2 -= learning_rate * grad_w2\n",
    "xs = np.arange(iter_range-print_range, iter_range)\n",
    "plt.plot(xs, losses[iter_range-print_range:])\n",
    "plt.show()\n",
    "print(\"Done!\")"
   ]
  },
  {
   "cell_type": "markdown",
   "metadata": {},
   "source": [
    "## Try to load some data from sklearn"
   ]
  },
  {
   "cell_type": "code",
   "execution_count": null,
   "metadata": {},
   "outputs": [],
   "source": [
    "# scikit-learn comes with a few standard datasets\n",
    "# for instance the digits datasets is the boston house prices dataset for regression.\n",
    "digits = datasets.load_digits()\n",
    "target_sum = digits.target.sum()\n",
    "print(\"Done!\")"
   ]
  },
  {
   "cell_type": "markdown",
   "metadata": {},
   "source": [
    "## Get your final answer"
   ]
  },
  {
   "cell_type": "code",
   "execution_count": null,
   "metadata": {},
   "outputs": [],
   "source": [
    "arr = np.array([1.76405235,0.40015721,0.97873798,2.2408932,1.86755799]).reshape(5,1)\n",
    "inv = linalg.inv(arr.dot(arr.T))\n",
    "ans = int(losses[-1]*inv.sum()/target_sum**2)\n",
    "display(Image(filename='bunny.jpg') )\n",
    "print(\"This is your final answer: {}\".format(ans))\n",
    "print(\"Don't forget to submit your answer on ELMS!\")"
   ]
  },
  {
   "cell_type": "code",
   "execution_count": null,
   "metadata": {
    "collapsed": true
   },
   "outputs": [],
   "source": []
  }
 ],
 "metadata": {
  "kernelspec": {
   "display_name": "Python 2",
   "language": "python",
   "name": "python2"
  },
  "language_info": {
   "codemirror_mode": {
    "name": "ipython",
    "version": 2
   },
   "file_extension": ".py",
   "mimetype": "text/x-python",
   "name": "python",
   "nbconvert_exporter": "python",
   "pygments_lexer": "ipython2",
   "version": "2.7.6"
  }
 },
 "nbformat": 4,
 "nbformat_minor": 2
}
